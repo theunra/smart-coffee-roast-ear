{
 "cells": [
  {
   "cell_type": "code",
   "execution_count": 2,
   "metadata": {},
   "outputs": [],
   "source": [
    "import json\n",
    "import numpy as np\n",
    "from sklearn.model_selection import train_test_split\n",
    "import tensorflow.keras as keras\n",
    "import tensorflow as tf\n",
    "import matplotlib.pyplot as plt\n",
    "import keras_tuner as kt\n"
   ]
  },
  {
   "cell_type": "code",
   "execution_count": 3,
   "metadata": {},
   "outputs": [
    {
     "name": "stdout",
     "output_type": "stream",
     "text": [
      "Num GPUs Available:  1\n"
     ]
    }
   ],
   "source": [
    "print(\"Num GPUs Available: \", len(tf.config.list_physical_devices('GPU')))"
   ]
  },
  {
   "cell_type": "code",
   "execution_count": 4,
   "metadata": {},
   "outputs": [],
   "source": [
    "# path to json file that stores MFCCs and genre labels for each processed segment\n",
    "DATA_PATH = \"./data.json\""
   ]
  },
  {
   "cell_type": "code",
   "execution_count": 5,
   "metadata": {},
   "outputs": [
    {
     "name": "stdout",
     "output_type": "stream",
     "text": [
      "Data succesfully loaded!\n"
     ]
    }
   ],
   "source": [
    "# load datas\n",
    "fp = open(DATA_PATH, \"r\")\n",
    "data = json.load(fp)\n",
    "\n",
    "# convert lists to numpy arrays\n",
    "X = np.array(data[\"mfcc\"])\n",
    "y = np.array(data[\"labels\"])\n",
    "\n",
    "print(\"Data succesfully loaded!\")"
   ]
  },
  {
   "cell_type": "code",
   "execution_count": 6,
   "metadata": {},
   "outputs": [],
   "source": [
    "# create train/test split\n",
    "X_train, X_test, y_train, y_test = train_test_split(X, y, test_size=0.3)"
   ]
  },
  {
   "cell_type": "code",
   "execution_count": 7,
   "metadata": {},
   "outputs": [],
   "source": [
    "# build network topology\n",
    "model = keras.Sequential([\n",
    "\n",
    "    # input layer\n",
    "    keras.layers.Flatten(input_shape=(X.shape[1], X.shape[2])),\n",
    "\n",
    "    # 1st dense layer\n",
    "    keras.layers.Dense(512, activation='relu', kernel_regularizer=keras.regularizers.l2(0.001)),\n",
    "    keras.layers.Dropout(0.3),\n",
    "\n",
    "    # 2nd dense layer\n",
    "    keras.layers.Dense(256, activation='relu', kernel_regularizer=keras.regularizers.l2(0.001)),\n",
    "    keras.layers.Dropout(0.3),\n",
    "\n",
    "    # 3rd dense layer\n",
    "    keras.layers.Dense(64, activation='relu', kernel_regularizer=keras.regularizers.l2(0.001)),\n",
    "    keras.layers.Dropout(0.3),\n",
    "\n",
    "    # output layer\n",
    "    keras.layers.Dense(10, activation='softmax')\n",
    "])"
   ]
  },
  {
   "cell_type": "code",
   "execution_count": 9,
   "metadata": {},
   "outputs": [
    {
     "name": "stdout",
     "output_type": "stream",
     "text": [
      "Model: \"sequential\"\n",
      "_________________________________________________________________\n",
      " Layer (type)                Output Shape              Param #   \n",
      "=================================================================\n",
      " flatten (Flatten)           (None, 1690)              0         \n",
      "                                                                 \n",
      " dense (Dense)               (None, 512)               865792    \n",
      "                                                                 \n",
      " dropout (Dropout)           (None, 512)               0         \n",
      "                                                                 \n",
      " dense_1 (Dense)             (None, 256)               131328    \n",
      "                                                                 \n",
      " dropout_1 (Dropout)         (None, 256)               0         \n",
      "                                                                 \n",
      " dense_2 (Dense)             (None, 64)                16448     \n",
      "                                                                 \n",
      " dropout_2 (Dropout)         (None, 64)                0         \n",
      "                                                                 \n",
      " dense_3 (Dense)             (None, 10)                650       \n",
      "                                                                 \n",
      "=================================================================\n",
      "Total params: 1,014,218\n",
      "Trainable params: 1,014,218\n",
      "Non-trainable params: 0\n",
      "_________________________________________________________________\n"
     ]
    }
   ],
   "source": [
    "# compile model\n",
    "optimiser = keras.optimizers.Adam(learning_rate=0.0001)\n",
    "model.compile(optimizer=optimiser,\n",
    "                loss='sparse_categorical_crossentropy',\n",
    "                metrics=['accuracy'])\n",
    "\n",
    "model.summary()"
   ]
  },
  {
   "cell_type": "code",
   "execution_count": 7,
   "metadata": {},
   "outputs": [],
   "source": [
    "def model_builder(hp):\n",
    "  model = keras.Sequential()\n",
    "  \n",
    "  # Tune the learning rate for the optimizer\n",
    "  # Choose an optimal value from 0.01, 0.001, or 0.0001\n",
    "  hp_learning_rate = hp.Choice('learning_rate', values=[1e-2, 1e-3, 1e-4])\n",
    "\n",
    "  model = keras.Sequential([\n",
    "\n",
    "    # input layer\n",
    "    keras.layers.Flatten(input_shape=(X.shape[1], X.shape[2])),\n",
    "\n",
    "    # 1st dense layer\n",
    "    # Tune the number of units in the first Dense layer\n",
    "    # Choose an optimal value between 32-512\n",
    "    keras.layers.Dense(\n",
    "      units=hp.Int('units_1', min_value=32, max_value=512, step=32), \n",
    "      activation='relu', \n",
    "      kernel_regularizer=keras.regularizers.l2(0.001)\n",
    "    ),\n",
    "    keras.layers.Dropout(0.6),\n",
    "\n",
    "    # 2nd dense layer\n",
    "    keras.layers.Dense(\n",
    "      units=hp.Int('units_2', min_value=32, max_value=512, step=32), \n",
    "      activation='relu', \n",
    "      kernel_regularizer=keras.regularizers.l2(0.001)\n",
    "    ),\n",
    "    keras.layers.Dropout(0.6),\n",
    "\n",
    "    # 3rd dense layer\n",
    "    keras.layers.Dense(\n",
    "      units=hp.Int('units_3', min_value=16, max_value=512, step=16), \n",
    "      activation='relu', \n",
    "      kernel_regularizer=keras.regularizers.l2(0.001)\n",
    "    ),\n",
    "    keras.layers.Dropout(0.6),\n",
    "\n",
    "    # 4th dense layer\n",
    "    keras.layers.Dense(\n",
    "      units=hp.Int('units_4', min_value=8, max_value=512, step=8), \n",
    "      activation='relu', \n",
    "      kernel_regularizer=keras.regularizers.l2(0.001)\n",
    "    ),\n",
    "    keras.layers.Dropout(0.6),\n",
    "\n",
    "    # output layer\n",
    "    keras.layers.Dense(10, activation='softmax')\n",
    "])\n",
    "\n",
    "  model.compile(optimizer=keras.optimizers.Adam(learning_rate=hp_learning_rate),\n",
    "                loss=keras.losses.SparseCategoricalCrossentropy(from_logits=True),\n",
    "                metrics=['accuracy'])\n",
    "\n",
    "  return model"
   ]
  },
  {
   "cell_type": "code",
   "execution_count": 26,
   "metadata": {},
   "outputs": [],
   "source": [
    "tuner = kt.Hyperband(model_builder,\n",
    "                     objective='val_accuracy',\n",
    "                     max_epochs=10,\n",
    "                     factor=4,\n",
    "                     directory='hp_learn',\n",
    "                     project_name='genre_classifier')"
   ]
  },
  {
   "cell_type": "code",
   "execution_count": 27,
   "metadata": {},
   "outputs": [],
   "source": [
    "stop_early = tf.keras.callbacks.EarlyStopping(monitor='val_loss', patience=5)"
   ]
  },
  {
   "cell_type": "code",
   "execution_count": 28,
   "metadata": {},
   "outputs": [
    {
     "name": "stdout",
     "output_type": "stream",
     "text": [
      "Trial 11 Complete [00h 00m 29s]\n",
      "val_accuracy: 0.15086781978607178\n",
      "\n",
      "Best val_accuracy So Far: 0.18090787529945374\n",
      "Total elapsed time: 00h 04m 59s\n",
      "\n",
      "optimal values :\n",
      "1st: 288\n",
      "2nd: 352\n",
      "3rd: 112\n",
      "4th: 504\n",
      "learning rate: 0.0001.\n",
      "\n"
     ]
    }
   ],
   "source": [
    "tuner.search(X_train, y_train, epochs=50, validation_data=(X_test, y_test), callbacks=[stop_early])\n",
    "\n",
    "# Get the optimal hyperparameters\n",
    "best_hps=tuner.get_best_hyperparameters(num_trials=1)[0]\n",
    "\n",
    "print(f\"\"\"\n",
    "optimal values :\n",
    "1st: {best_hps.get('units_1')}\n",
    "2nd: {best_hps.get('units_2')}\n",
    "3rd: {best_hps.get('units_3')}\n",
    "4th: {best_hps.get('units_4')}\n",
    "learning rate: {best_hps.get('learning_rate')}.\n",
    "\"\"\")"
   ]
  },
  {
   "cell_type": "code",
   "execution_count": 12,
   "metadata": {},
   "outputs": [],
   "source": [
    "# get tuned model\n",
    "model = tuner.hypermodel.build(best_hps)"
   ]
  },
  {
   "cell_type": "code",
   "execution_count": 12,
   "metadata": {},
   "outputs": [
    {
     "name": "stdout",
     "output_type": "stream",
     "text": [
      "Epoch 1/50\n",
      "219/219 [==============================] - 4s 16ms/step - loss: 2.2245 - accuracy: 0.4014 - val_loss: 2.3411 - val_accuracy: 0.3765\n",
      "Epoch 2/50\n",
      "219/219 [==============================] - 3s 15ms/step - loss: 2.2119 - accuracy: 0.3911 - val_loss: 2.2593 - val_accuracy: 0.4092\n",
      "Epoch 3/50\n",
      "219/219 [==============================] - 3s 15ms/step - loss: 2.1744 - accuracy: 0.4107 - val_loss: 2.2729 - val_accuracy: 0.4112\n",
      "Epoch 4/50\n",
      "219/219 [==============================] - 3s 15ms/step - loss: 2.1584 - accuracy: 0.4087 - val_loss: 2.2256 - val_accuracy: 0.4055\n",
      "Epoch 5/50\n",
      "219/219 [==============================] - 3s 15ms/step - loss: 2.1297 - accuracy: 0.4142 - val_loss: 2.2148 - val_accuracy: 0.4015\n",
      "Epoch 6/50\n",
      "219/219 [==============================] - 3s 15ms/step - loss: 2.1087 - accuracy: 0.4190 - val_loss: 2.2361 - val_accuracy: 0.3875\n",
      "Epoch 7/50\n",
      "219/219 [==============================] - 3s 15ms/step - loss: 2.0845 - accuracy: 0.4215 - val_loss: 2.1202 - val_accuracy: 0.4055\n",
      "Epoch 8/50\n",
      "219/219 [==============================] - 3s 14ms/step - loss: 2.0528 - accuracy: 0.4302 - val_loss: 2.1188 - val_accuracy: 0.4042\n",
      "Epoch 9/50\n",
      "219/219 [==============================] - 3s 15ms/step - loss: 2.0053 - accuracy: 0.4368 - val_loss: 2.0486 - val_accuracy: 0.4152\n",
      "Epoch 10/50\n",
      "219/219 [==============================] - 3s 15ms/step - loss: 1.9617 - accuracy: 0.4516 - val_loss: 2.0532 - val_accuracy: 0.4503\n",
      "Epoch 11/50\n",
      "219/219 [==============================] - 3s 15ms/step - loss: 1.9354 - accuracy: 0.4528 - val_loss: 2.0519 - val_accuracy: 0.4259\n",
      "Epoch 12/50\n",
      "219/219 [==============================] - 3s 15ms/step - loss: 1.8934 - accuracy: 0.4611 - val_loss: 2.0425 - val_accuracy: 0.4232\n",
      "Epoch 13/50\n",
      "219/219 [==============================] - 3s 15ms/step - loss: 1.8738 - accuracy: 0.4715 - val_loss: 1.9971 - val_accuracy: 0.4656\n",
      "Epoch 14/50\n",
      "219/219 [==============================] - 3s 15ms/step - loss: 1.8612 - accuracy: 0.4767 - val_loss: 1.9922 - val_accuracy: 0.4513\n",
      "Epoch 15/50\n",
      "219/219 [==============================] - 3s 14ms/step - loss: 1.8395 - accuracy: 0.4893 - val_loss: 2.0068 - val_accuracy: 0.4586\n",
      "Epoch 16/50\n",
      "219/219 [==============================] - 3s 15ms/step - loss: 1.8207 - accuracy: 0.4840 - val_loss: 1.9643 - val_accuracy: 0.4489\n",
      "Epoch 17/50\n",
      "219/219 [==============================] - 3s 15ms/step - loss: 1.7691 - accuracy: 0.4990 - val_loss: 1.9903 - val_accuracy: 0.4746\n",
      "Epoch 18/50\n",
      "219/219 [==============================] - 3s 14ms/step - loss: 1.7641 - accuracy: 0.4993 - val_loss: 1.9467 - val_accuracy: 0.4816\n",
      "Epoch 19/50\n",
      "219/219 [==============================] - 3s 15ms/step - loss: 1.7305 - accuracy: 0.5127 - val_loss: 1.9031 - val_accuracy: 0.4686\n",
      "Epoch 20/50\n",
      "219/219 [==============================] - 3s 15ms/step - loss: 1.7181 - accuracy: 0.5129 - val_loss: 1.9412 - val_accuracy: 0.4980\n",
      "Epoch 21/50\n",
      "219/219 [==============================] - 3s 16ms/step - loss: 1.7011 - accuracy: 0.5222 - val_loss: 1.8850 - val_accuracy: 0.5010\n",
      "Epoch 22/50\n",
      "219/219 [==============================] - 3s 15ms/step - loss: 1.6650 - accuracy: 0.5266 - val_loss: 1.9335 - val_accuracy: 0.4940\n",
      "Epoch 23/50\n",
      "219/219 [==============================] - 3s 15ms/step - loss: 1.6301 - accuracy: 0.5373 - val_loss: 1.8949 - val_accuracy: 0.5063\n",
      "Epoch 24/50\n",
      "219/219 [==============================] - 3s 14ms/step - loss: 1.5990 - accuracy: 0.5452 - val_loss: 1.8957 - val_accuracy: 0.4930\n",
      "Epoch 25/50\n",
      "219/219 [==============================] - 3s 15ms/step - loss: 1.6030 - accuracy: 0.5422 - val_loss: 1.9378 - val_accuracy: 0.4843\n",
      "Epoch 26/50\n",
      "219/219 [==============================] - 3s 14ms/step - loss: 1.5785 - accuracy: 0.5474 - val_loss: 1.8549 - val_accuracy: 0.5174\n",
      "Epoch 27/50\n",
      "219/219 [==============================] - 3s 15ms/step - loss: 1.5584 - accuracy: 0.5569 - val_loss: 1.8299 - val_accuracy: 0.5137\n",
      "Epoch 28/50\n",
      "219/219 [==============================] - 3s 15ms/step - loss: 1.5624 - accuracy: 0.5515 - val_loss: 1.8077 - val_accuracy: 0.5033\n",
      "Epoch 29/50\n",
      "219/219 [==============================] - 3s 15ms/step - loss: 1.5423 - accuracy: 0.5584 - val_loss: 1.8337 - val_accuracy: 0.5164\n",
      "Epoch 30/50\n",
      "219/219 [==============================] - 3s 14ms/step - loss: 1.4976 - accuracy: 0.5730 - val_loss: 1.8318 - val_accuracy: 0.5344\n",
      "Epoch 31/50\n",
      "219/219 [==============================] - 3s 15ms/step - loss: 1.4606 - accuracy: 0.5834 - val_loss: 1.8589 - val_accuracy: 0.5077\n",
      "Epoch 32/50\n",
      "219/219 [==============================] - 3s 14ms/step - loss: 1.4738 - accuracy: 0.5764 - val_loss: 1.7940 - val_accuracy: 0.5314\n",
      "Epoch 33/50\n",
      "219/219 [==============================] - 3s 15ms/step - loss: 1.4648 - accuracy: 0.5896 - val_loss: 1.8544 - val_accuracy: 0.5000\n",
      "Epoch 34/50\n",
      "219/219 [==============================] - 3s 15ms/step - loss: 1.4345 - accuracy: 0.5898 - val_loss: 1.8340 - val_accuracy: 0.5240\n",
      "Epoch 35/50\n",
      "219/219 [==============================] - 3s 15ms/step - loss: 1.4095 - accuracy: 0.5963 - val_loss: 1.7780 - val_accuracy: 0.5327\n",
      "Epoch 36/50\n",
      "219/219 [==============================] - 3s 15ms/step - loss: 1.3821 - accuracy: 0.6103 - val_loss: 1.8119 - val_accuracy: 0.5254\n",
      "Epoch 37/50\n",
      "219/219 [==============================] - 3s 15ms/step - loss: 1.3852 - accuracy: 0.6110 - val_loss: 1.7911 - val_accuracy: 0.5324\n",
      "Epoch 38/50\n",
      "219/219 [==============================] - 3s 14ms/step - loss: 1.3354 - accuracy: 0.6256 - val_loss: 1.7642 - val_accuracy: 0.5234\n",
      "Epoch 39/50\n",
      "219/219 [==============================] - 3s 15ms/step - loss: 1.3446 - accuracy: 0.6216 - val_loss: 1.7507 - val_accuracy: 0.5364\n",
      "Epoch 40/50\n",
      "219/219 [==============================] - 3s 15ms/step - loss: 1.3279 - accuracy: 0.6239 - val_loss: 1.7684 - val_accuracy: 0.5501\n",
      "Epoch 41/50\n",
      "219/219 [==============================] - 3s 15ms/step - loss: 1.2886 - accuracy: 0.6382 - val_loss: 1.8042 - val_accuracy: 0.5494\n",
      "Epoch 42/50\n",
      "219/219 [==============================] - 3s 15ms/step - loss: 1.3011 - accuracy: 0.6292 - val_loss: 1.7799 - val_accuracy: 0.5527\n",
      "Epoch 43/50\n",
      "219/219 [==============================] - 3s 15ms/step - loss: 1.2736 - accuracy: 0.6399 - val_loss: 1.7856 - val_accuracy: 0.5537\n",
      "Epoch 44/50\n",
      "219/219 [==============================] - 3s 15ms/step - loss: 1.2792 - accuracy: 0.6431 - val_loss: 1.7719 - val_accuracy: 0.5497\n",
      "Epoch 45/50\n",
      "219/219 [==============================] - 3s 14ms/step - loss: 1.2653 - accuracy: 0.6456 - val_loss: 1.7696 - val_accuracy: 0.5521\n",
      "Epoch 46/50\n",
      "219/219 [==============================] - 3s 15ms/step - loss: 1.2459 - accuracy: 0.6534 - val_loss: 1.7881 - val_accuracy: 0.5784\n",
      "Epoch 47/50\n",
      "219/219 [==============================] - 3s 15ms/step - loss: 1.2183 - accuracy: 0.6624 - val_loss: 1.7808 - val_accuracy: 0.5561\n",
      "Epoch 48/50\n",
      "219/219 [==============================] - 3s 14ms/step - loss: 1.2178 - accuracy: 0.6612 - val_loss: 1.8015 - val_accuracy: 0.5784\n",
      "Epoch 49/50\n",
      "219/219 [==============================] - 3s 15ms/step - loss: 1.2092 - accuracy: 0.6652 - val_loss: 1.7827 - val_accuracy: 0.5848\n",
      "Epoch 50/50\n",
      "219/219 [==============================] - 3s 15ms/step - loss: 1.1593 - accuracy: 0.6851 - val_loss: 1.7298 - val_accuracy: 0.5714\n"
     ]
    }
   ],
   "source": [
    "# train model\n",
    "history = model.fit(X_train, y_train, validation_data=(X_test, y_test), batch_size=32, epochs=50)"
   ]
  },
  {
   "cell_type": "code",
   "execution_count": 25,
   "metadata": {},
   "outputs": [
    {
     "name": "stdout",
     "output_type": "stream",
     "text": [
      "Best epoch: 42\n",
      "Epoch 1/42\n"
     ]
    },
    {
     "name": "stderr",
     "output_type": "stream",
     "text": [
      "/home/smartcoffeeroast/e_ear/.env/lib/python3.8/site-packages/keras/backend.py:5612: UserWarning: \"`sparse_categorical_crossentropy` received `from_logits=True`, but the `output` argument was produced by a Softmax activation and thus does not represent logits. Was this intended?\n",
      "  output, from_logits = _get_logits(\n"
     ]
    },
    {
     "name": "stdout",
     "output_type": "stream",
     "text": [
      "219/219 [==============================] - 7s 16ms/step - loss: 18.6638 - accuracy: 0.1495 - val_loss: 3.2582 - val_accuracy: 0.1842\n",
      "Epoch 2/42\n",
      "219/219 [==============================] - 3s 14ms/step - loss: 3.7598 - accuracy: 0.1506 - val_loss: 2.8851 - val_accuracy: 0.1906\n",
      "Epoch 3/42\n",
      "219/219 [==============================] - 3s 14ms/step - loss: 3.1615 - accuracy: 0.1680 - val_loss: 2.7794 - val_accuracy: 0.2019\n",
      "Epoch 4/42\n",
      "219/219 [==============================] - 3s 14ms/step - loss: 2.9739 - accuracy: 0.1740 - val_loss: 2.7460 - val_accuracy: 0.2033\n",
      "Epoch 5/42\n",
      "219/219 [==============================] - 3s 15ms/step - loss: 2.9065 - accuracy: 0.1734 - val_loss: 2.7109 - val_accuracy: 0.2099\n",
      "Epoch 6/42\n",
      "219/219 [==============================] - 3s 14ms/step - loss: 2.8319 - accuracy: 0.1814 - val_loss: 2.7130 - val_accuracy: 0.2043\n",
      "Epoch 7/42\n",
      "219/219 [==============================] - 3s 14ms/step - loss: 2.7899 - accuracy: 0.1883 - val_loss: 2.6876 - val_accuracy: 0.2200\n",
      "Epoch 8/42\n",
      "219/219 [==============================] - 3s 14ms/step - loss: 2.7905 - accuracy: 0.1897 - val_loss: 2.6912 - val_accuracy: 0.2136\n",
      "Epoch 9/42\n",
      "219/219 [==============================] - 3s 16ms/step - loss: 2.7498 - accuracy: 0.1890 - val_loss: 2.6763 - val_accuracy: 0.2253\n",
      "Epoch 10/42\n",
      "219/219 [==============================] - 3s 15ms/step - loss: 2.7469 - accuracy: 0.2004 - val_loss: 2.6601 - val_accuracy: 0.2240\n",
      "Epoch 11/42\n",
      "219/219 [==============================] - 3s 15ms/step - loss: 2.6978 - accuracy: 0.2044 - val_loss: 2.6422 - val_accuracy: 0.2326\n",
      "Epoch 12/42\n",
      "219/219 [==============================] - 3s 14ms/step - loss: 2.6914 - accuracy: 0.2019 - val_loss: 2.6264 - val_accuracy: 0.2377\n",
      "Epoch 13/42\n",
      "219/219 [==============================] - 3s 15ms/step - loss: 2.6756 - accuracy: 0.2155 - val_loss: 2.6037 - val_accuracy: 0.2487\n",
      "Epoch 14/42\n",
      "219/219 [==============================] - 3s 15ms/step - loss: 2.6552 - accuracy: 0.2147 - val_loss: 2.5821 - val_accuracy: 0.2593\n",
      "Epoch 15/42\n",
      "219/219 [==============================] - 3s 15ms/step - loss: 2.6481 - accuracy: 0.2162 - val_loss: 2.5807 - val_accuracy: 0.2547\n",
      "Epoch 16/42\n",
      "219/219 [==============================] - 3s 14ms/step - loss: 2.6141 - accuracy: 0.2298 - val_loss: 2.5841 - val_accuracy: 0.2523\n",
      "Epoch 17/42\n",
      "219/219 [==============================] - 3s 16ms/step - loss: 2.6143 - accuracy: 0.2305 - val_loss: 2.5679 - val_accuracy: 0.2553\n",
      "Epoch 18/42\n",
      "219/219 [==============================] - 3s 15ms/step - loss: 2.6137 - accuracy: 0.2293 - val_loss: 2.5484 - val_accuracy: 0.2640\n",
      "Epoch 19/42\n",
      "219/219 [==============================] - 3s 14ms/step - loss: 2.5929 - accuracy: 0.2265 - val_loss: 2.5222 - val_accuracy: 0.2727\n",
      "Epoch 20/42\n",
      "219/219 [==============================] - 3s 15ms/step - loss: 2.5669 - accuracy: 0.2363 - val_loss: 2.5079 - val_accuracy: 0.2730\n",
      "Epoch 21/42\n",
      "219/219 [==============================] - 3s 14ms/step - loss: 2.5507 - accuracy: 0.2454 - val_loss: 2.5113 - val_accuracy: 0.2730\n",
      "Epoch 22/42\n",
      "219/219 [==============================] - 3s 15ms/step - loss: 2.5364 - accuracy: 0.2429 - val_loss: 2.5179 - val_accuracy: 0.2640\n",
      "Epoch 23/42\n",
      "219/219 [==============================] - 3s 15ms/step - loss: 2.5373 - accuracy: 0.2452 - val_loss: 2.4747 - val_accuracy: 0.2787\n",
      "Epoch 24/42\n",
      "219/219 [==============================] - 3s 14ms/step - loss: 2.5103 - accuracy: 0.2521 - val_loss: 2.4738 - val_accuracy: 0.2827\n",
      "Epoch 25/42\n",
      "219/219 [==============================] - 3s 14ms/step - loss: 2.4967 - accuracy: 0.2591 - val_loss: 2.4559 - val_accuracy: 0.2954\n",
      "Epoch 26/42\n",
      "219/219 [==============================] - 3s 15ms/step - loss: 2.4769 - accuracy: 0.2591 - val_loss: 2.4639 - val_accuracy: 0.2897\n",
      "Epoch 27/42\n",
      "219/219 [==============================] - 3s 15ms/step - loss: 2.4549 - accuracy: 0.2651 - val_loss: 2.4307 - val_accuracy: 0.2937\n",
      "Epoch 28/42\n",
      "219/219 [==============================] - 3s 14ms/step - loss: 2.4405 - accuracy: 0.2761 - val_loss: 2.4083 - val_accuracy: 0.2951\n",
      "Epoch 29/42\n",
      "219/219 [==============================] - 3s 14ms/step - loss: 2.4213 - accuracy: 0.2765 - val_loss: 2.4003 - val_accuracy: 0.3041\n",
      "Epoch 30/42\n",
      "219/219 [==============================] - 3s 14ms/step - loss: 2.4158 - accuracy: 0.2761 - val_loss: 2.3843 - val_accuracy: 0.3074\n",
      "Epoch 31/42\n",
      "219/219 [==============================] - 3s 14ms/step - loss: 2.3933 - accuracy: 0.2880 - val_loss: 2.4071 - val_accuracy: 0.2994\n",
      "Epoch 32/42\n",
      "219/219 [==============================] - 3s 14ms/step - loss: 2.3715 - accuracy: 0.2874 - val_loss: 2.3580 - val_accuracy: 0.3037\n",
      "Epoch 33/42\n",
      "219/219 [==============================] - 3s 14ms/step - loss: 2.3474 - accuracy: 0.2896 - val_loss: 2.3576 - val_accuracy: 0.3091\n",
      "Epoch 34/42\n",
      "219/219 [==============================] - 3s 14ms/step - loss: 2.3198 - accuracy: 0.2984 - val_loss: 2.3332 - val_accuracy: 0.3151\n",
      "Epoch 35/42\n",
      "219/219 [==============================] - 3s 14ms/step - loss: 2.3198 - accuracy: 0.2946 - val_loss: 2.3263 - val_accuracy: 0.3188\n",
      "Epoch 36/42\n",
      "219/219 [==============================] - 3s 14ms/step - loss: 2.2987 - accuracy: 0.3004 - val_loss: 2.3063 - val_accuracy: 0.3174\n",
      "Epoch 37/42\n",
      "219/219 [==============================] - 3s 15ms/step - loss: 2.2716 - accuracy: 0.3156 - val_loss: 2.3092 - val_accuracy: 0.3081\n",
      "Epoch 38/42\n",
      "219/219 [==============================] - 3s 14ms/step - loss: 2.2545 - accuracy: 0.3169 - val_loss: 2.2898 - val_accuracy: 0.3268\n",
      "Epoch 39/42\n",
      "219/219 [==============================] - 3s 14ms/step - loss: 2.2438 - accuracy: 0.3173 - val_loss: 2.2617 - val_accuracy: 0.3238\n",
      "Epoch 40/42\n",
      "219/219 [==============================] - 3s 14ms/step - loss: 2.2141 - accuracy: 0.3167 - val_loss: 2.2565 - val_accuracy: 0.3498\n",
      "Epoch 41/42\n",
      "219/219 [==============================] - 3s 14ms/step - loss: 2.1944 - accuracy: 0.3259 - val_loss: 2.2445 - val_accuracy: 0.3391\n",
      "Epoch 42/42\n",
      "219/219 [==============================] - 3s 15ms/step - loss: 2.1758 - accuracy: 0.3275 - val_loss: 2.2029 - val_accuracy: 0.3518\n"
     ]
    },
    {
     "data": {
      "text/plain": [
       "<keras.callbacks.History at 0xfffdfa3f9f70>"
      ]
     },
     "execution_count": 25,
     "metadata": {},
     "output_type": "execute_result"
    }
   ],
   "source": [
    "# evaluate tuned model training \n",
    "val_acc_per_epoch = history.history['val_accuracy']\n",
    "best_epoch = val_acc_per_epoch.index(max(val_acc_per_epoch)) + 1\n",
    "print('Best epoch: %d' % (best_epoch,))\n",
    "\n",
    "hypermodel = tuner.hypermodel.build(best_hps)\n",
    "\n",
    "# Retrain the model using best epoch\n",
    "hypermodel.fit(X_train, y_train, validation_data=(X_test, y_test), batch_size=32, epochs=best_epoch)"
   ]
  },
  {
   "cell_type": "code",
   "execution_count": 13,
   "metadata": {},
   "outputs": [
    {
     "data": {
      "image/png": "[encoded data removed]",
      "text/plain": [
       "<Figure size 640x480 with 2 Axes>"
      ]
     },
     "metadata": {},
     "output_type": "display_data"
    }
   ],
   "source": [
    "# evaluate model\n",
    "fig, axs = plt.subplots(2)\n",
    "\n",
    "# create accuracy sublpot\n",
    "axs[0].plot(history.history[\"accuracy\"], label=\"train accuracy\")\n",
    "axs[0].plot(history.history[\"val_accuracy\"], label=\"test accuracy\")\n",
    "axs[0].set_ylabel(\"Accuracy\")\n",
    "axs[0].legend(loc=\"lower right\")\n",
    "axs[0].set_title(\"Accuracy eval\")\n",
    "\n",
    "# create error sublpot\n",
    "axs[1].plot(history.history[\"loss\"], label=\"train error\")\n",
    "axs[1].plot(history.history[\"val_loss\"], label=\"test error\")\n",
    "axs[1].set_ylabel(\"Error\")\n",
    "axs[1].set_xlabel(\"Epoch\")\n",
    "axs[1].legend(loc=\"upper right\")\n",
    "axs[1].set_title(\"Error eval\")\n",
    "\n",
    "plt.show()"
   ]
  }
 ],
 "metadata": {
  "kernelspec": {
   "display_name": ".env",
   "language": "python",
   "name": "python3"
  },
  "language_info": {
   "codemirror_mode": {
    "name": "ipython",
    "version": 3
   },
   "file_extension": ".py",
   "mimetype": "text/x-python",
   "name": "python",
   "nbconvert_exporter": "python",
   "pygments_lexer": "ipython3",
   "version": "3.8.10"
  }
 },
 "nbformat": 4,
 "nbformat_minor": 2
}
